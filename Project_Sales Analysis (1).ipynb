{
 "cells": [
  {
   "cell_type": "code",
   "execution_count": 1,
   "id": "305e3d8e-7d80-49bb-ab6b-992a0f774b49",
   "metadata": {},
   "outputs": [],
   "source": [
    "import numpy as np\n",
    "import pandas as pd\n",
    "import seaborn as sns\n",
    "import matplotlib.pyplot as plt\n",
    "from sklearn.preprocessing import MinMaxScaler"
   ]
  },
  {
   "cell_type": "code",
   "execution_count": 2,
   "id": "62557119-8989-4085-b1de-580b0fd1ed7e",
   "metadata": {},
   "outputs": [],
   "source": [
    "sales_df=pd.read_csv(r'C:\\Users\\siddh\\OneDrive\\Desktop\\DS\\ADS_Python\\PRoject2\\AusApparalSales4thQrt2020.csv')"
   ]
  },
  {
   "cell_type": "markdown",
   "id": "492ac877-c645-4a89-9d7e-ae92c7188971",
   "metadata": {},
   "source": [
    "# 1. Data Summary"
   ]
  },
  {
   "cell_type": "code",
   "execution_count": 3,
   "id": "8cb28289-bd10-47cd-a8dc-73691ec52495",
   "metadata": {},
   "outputs": [
    {
     "data": {
      "text/plain": [
       "Index(['Date', 'Time', 'State', 'Group', 'Unit', 'Sales'], dtype='object')"
      ]
     },
     "execution_count": 3,
     "metadata": {},
     "output_type": "execute_result"
    }
   ],
   "source": [
    "sales_df.columns"
   ]
  },
  {
   "cell_type": "code",
   "execution_count": 4,
   "id": "53834eeb-d727-4e4e-98cf-d2d224f373ca",
   "metadata": {},
   "outputs": [
    {
     "data": {
      "text/plain": [
       "(7560, 6)"
      ]
     },
     "execution_count": 4,
     "metadata": {},
     "output_type": "execute_result"
    }
   ],
   "source": [
    "sales_df.shape"
   ]
  },
  {
   "cell_type": "code",
   "execution_count": 5,
   "id": "897f18ae-1f4f-4785-8596-66632e848746",
   "metadata": {},
   "outputs": [
    {
     "name": "stdout",
     "output_type": "stream",
     "text": [
      "<class 'pandas.core.frame.DataFrame'>\n",
      "RangeIndex: 7560 entries, 0 to 7559\n",
      "Data columns (total 6 columns):\n",
      " #   Column  Non-Null Count  Dtype \n",
      "---  ------  --------------  ----- \n",
      " 0   Date    7560 non-null   object\n",
      " 1   Time    7560 non-null   object\n",
      " 2   State   7560 non-null   object\n",
      " 3   Group   7560 non-null   object\n",
      " 4   Unit    7560 non-null   int64 \n",
      " 5   Sales   7560 non-null   int64 \n",
      "dtypes: int64(2), object(4)\n",
      "memory usage: 354.5+ KB\n"
     ]
    }
   ],
   "source": [
    "sales_df.info()"
   ]
  },
  {
   "cell_type": "code",
   "execution_count": 6,
   "id": "caf19c6d-ef07-4d86-9eb4-e9f7e3f9ca8d",
   "metadata": {},
   "outputs": [
    {
     "data": {
      "text/html": [
       "<div>\n",
       "<style scoped>\n",
       "    .dataframe tbody tr th:only-of-type {\n",
       "        vertical-align: middle;\n",
       "    }\n",
       "\n",
       "    .dataframe tbody tr th {\n",
       "        vertical-align: top;\n",
       "    }\n",
       "\n",
       "    .dataframe thead th {\n",
       "        text-align: right;\n",
       "    }\n",
       "</style>\n",
       "<table border=\"1\" class=\"dataframe\">\n",
       "  <thead>\n",
       "    <tr style=\"text-align: right;\">\n",
       "      <th></th>\n",
       "      <th>Date</th>\n",
       "      <th>Time</th>\n",
       "      <th>State</th>\n",
       "      <th>Group</th>\n",
       "      <th>Unit</th>\n",
       "      <th>Sales</th>\n",
       "    </tr>\n",
       "  </thead>\n",
       "  <tbody>\n",
       "    <tr>\n",
       "      <th>0</th>\n",
       "      <td>1-Oct-2020</td>\n",
       "      <td>Morning</td>\n",
       "      <td>WA</td>\n",
       "      <td>Kids</td>\n",
       "      <td>8</td>\n",
       "      <td>20000</td>\n",
       "    </tr>\n",
       "    <tr>\n",
       "      <th>1</th>\n",
       "      <td>1-Oct-2020</td>\n",
       "      <td>Morning</td>\n",
       "      <td>WA</td>\n",
       "      <td>Men</td>\n",
       "      <td>8</td>\n",
       "      <td>20000</td>\n",
       "    </tr>\n",
       "    <tr>\n",
       "      <th>2</th>\n",
       "      <td>1-Oct-2020</td>\n",
       "      <td>Morning</td>\n",
       "      <td>WA</td>\n",
       "      <td>Women</td>\n",
       "      <td>4</td>\n",
       "      <td>10000</td>\n",
       "    </tr>\n",
       "    <tr>\n",
       "      <th>3</th>\n",
       "      <td>1-Oct-2020</td>\n",
       "      <td>Morning</td>\n",
       "      <td>WA</td>\n",
       "      <td>Seniors</td>\n",
       "      <td>15</td>\n",
       "      <td>37500</td>\n",
       "    </tr>\n",
       "    <tr>\n",
       "      <th>4</th>\n",
       "      <td>1-Oct-2020</td>\n",
       "      <td>Afternoon</td>\n",
       "      <td>WA</td>\n",
       "      <td>Kids</td>\n",
       "      <td>3</td>\n",
       "      <td>7500</td>\n",
       "    </tr>\n",
       "  </tbody>\n",
       "</table>\n",
       "</div>"
      ],
      "text/plain": [
       "         Date        Time State     Group  Unit  Sales\n",
       "0  1-Oct-2020     Morning    WA      Kids     8  20000\n",
       "1  1-Oct-2020     Morning    WA       Men     8  20000\n",
       "2  1-Oct-2020     Morning    WA     Women     4  10000\n",
       "3  1-Oct-2020     Morning    WA   Seniors    15  37500\n",
       "4  1-Oct-2020   Afternoon    WA      Kids     3   7500"
      ]
     },
     "execution_count": 6,
     "metadata": {},
     "output_type": "execute_result"
    }
   ],
   "source": [
    "sales_df.head()"
   ]
  },
  {
   "attachments": {},
   "cell_type": "markdown",
   "id": "84247d67-dafc-4cef-b455-059f3c64c743",
   "metadata": {},
   "source": [
    "# 2. Data Wrangling"
   ]
  },
  {
   "cell_type": "markdown",
   "id": "7a7d1419-a6e1-499c-8e15-9c23964cf7e4",
   "metadata": {},
   "source": [
    "## 2.1 Checking Missing or Incorrect Data"
   ]
  },
  {
   "cell_type": "code",
   "execution_count": 8,
   "id": "054ee6df-66b7-4dd5-b412-0d0cf322580c",
   "metadata": {},
   "outputs": [
    {
     "data": {
      "text/plain": [
       "Date     0\n",
       "Time     0\n",
       "State    0\n",
       "Group    0\n",
       "Unit     0\n",
       "Sales    0\n",
       "dtype: int64"
      ]
     },
     "execution_count": 8,
     "metadata": {},
     "output_type": "execute_result"
    }
   ],
   "source": [
    "sales_df.isnull().sum()"
   ]
  },
  {
   "cell_type": "code",
   "execution_count": 9,
   "id": "fb6f70b8-f2e4-4516-ad8a-d274d2be3494",
   "metadata": {},
   "outputs": [],
   "source": [
    "incorrect_sales=sales_df[sales_df['Sales']<0]"
   ]
  },
  {
   "cell_type": "code",
   "execution_count": 10,
   "id": "eb35401d-7e00-4f72-88f3-1a3e201ab1b1",
   "metadata": {},
   "outputs": [
    {
     "data": {
      "text/html": [
       "<div>\n",
       "<style scoped>\n",
       "    .dataframe tbody tr th:only-of-type {\n",
       "        vertical-align: middle;\n",
       "    }\n",
       "\n",
       "    .dataframe tbody tr th {\n",
       "        vertical-align: top;\n",
       "    }\n",
       "\n",
       "    .dataframe thead th {\n",
       "        text-align: right;\n",
       "    }\n",
       "</style>\n",
       "<table border=\"1\" class=\"dataframe\">\n",
       "  <thead>\n",
       "    <tr style=\"text-align: right;\">\n",
       "      <th></th>\n",
       "      <th>Date</th>\n",
       "      <th>Time</th>\n",
       "      <th>State</th>\n",
       "      <th>Group</th>\n",
       "      <th>Unit</th>\n",
       "      <th>Sales</th>\n",
       "    </tr>\n",
       "  </thead>\n",
       "  <tbody>\n",
       "  </tbody>\n",
       "</table>\n",
       "</div>"
      ],
      "text/plain": [
       "Empty DataFrame\n",
       "Columns: [Date, Time, State, Group, Unit, Sales]\n",
       "Index: []"
      ]
     },
     "execution_count": 10,
     "metadata": {},
     "output_type": "execute_result"
    }
   ],
   "source": [
    "incorrect_sales"
   ]
  },
  {
   "cell_type": "code",
   "execution_count": 11,
   "id": "bc213ccc-cfd8-4f31-b567-d9d5af320e6a",
   "metadata": {},
   "outputs": [],
   "source": [
    "incorrect_units=sales_df[sales_df['Unit']<0]"
   ]
  },
  {
   "cell_type": "code",
   "execution_count": 12,
   "id": "3eca6bf4-e396-48e5-831a-756cae873749",
   "metadata": {},
   "outputs": [
    {
     "data": {
      "text/html": [
       "<div>\n",
       "<style scoped>\n",
       "    .dataframe tbody tr th:only-of-type {\n",
       "        vertical-align: middle;\n",
       "    }\n",
       "\n",
       "    .dataframe tbody tr th {\n",
       "        vertical-align: top;\n",
       "    }\n",
       "\n",
       "    .dataframe thead th {\n",
       "        text-align: right;\n",
       "    }\n",
       "</style>\n",
       "<table border=\"1\" class=\"dataframe\">\n",
       "  <thead>\n",
       "    <tr style=\"text-align: right;\">\n",
       "      <th></th>\n",
       "      <th>Date</th>\n",
       "      <th>Time</th>\n",
       "      <th>State</th>\n",
       "      <th>Group</th>\n",
       "      <th>Unit</th>\n",
       "      <th>Sales</th>\n",
       "    </tr>\n",
       "  </thead>\n",
       "  <tbody>\n",
       "  </tbody>\n",
       "</table>\n",
       "</div>"
      ],
      "text/plain": [
       "Empty DataFrame\n",
       "Columns: [Date, Time, State, Group, Unit, Sales]\n",
       "Index: []"
      ]
     },
     "execution_count": 12,
     "metadata": {},
     "output_type": "execute_result"
    }
   ],
   "source": [
    "incorrect_units"
   ]
  },
  {
   "cell_type": "markdown",
   "id": "22fe9331-188f-4bfe-a5de-624835406198",
   "metadata": {},
   "source": [
    "## 2.2 Normalization"
   ]
  },
  {
   "cell_type": "code",
   "execution_count": 13,
   "id": "0b44b73f-451d-4599-bfb4-89986d2f0b84",
   "metadata": {},
   "outputs": [],
   "source": [
    "scaler = MinMaxScaler()"
   ]
  },
  {
   "cell_type": "code",
   "execution_count": 14,
   "id": "e86f0490-64fd-4b0e-b7bf-17a77e27503a",
   "metadata": {},
   "outputs": [],
   "source": [
    "sales_num=pd.DataFrame(sales_df, columns=['Unit','Sales'])"
   ]
  },
  {
   "cell_type": "code",
   "execution_count": 15,
   "id": "42e92d18-9134-44c4-a53b-9075320f0bbe",
   "metadata": {},
   "outputs": [],
   "source": [
    "normalized_data = scaler.fit_transform(sales_num)"
   ]
  },
  {
   "cell_type": "code",
   "execution_count": 16,
   "id": "50875c2e-9cbe-4e65-945b-d20ab43bedcc",
   "metadata": {},
   "outputs": [
    {
     "data": {
      "text/plain": [
       "array([[0.0952381 , 0.0952381 ],\n",
       "       [0.0952381 , 0.0952381 ],\n",
       "       [0.03174603, 0.03174603],\n",
       "       ...,\n",
       "       [0.20634921, 0.20634921],\n",
       "       [0.14285714, 0.14285714],\n",
       "       [0.17460317, 0.17460317]])"
      ]
     },
     "execution_count": 16,
     "metadata": {},
     "output_type": "execute_result"
    }
   ],
   "source": [
    "normalized_data"
   ]
  },
  {
   "cell_type": "code",
   "execution_count": 17,
   "id": "509c5df1-38a8-49cb-8a65-2abb25303c23",
   "metadata": {},
   "outputs": [],
   "source": [
    "new_df = pd.DataFrame(normalized_data, columns=['Normalized_Unit','Normalized_Sales'])"
   ]
  },
  {
   "cell_type": "code",
   "execution_count": 18,
   "id": "323380b4-1b0a-4c0a-9d5a-59e1e7f5322c",
   "metadata": {},
   "outputs": [
    {
     "data": {
      "text/html": [
       "<div>\n",
       "<style scoped>\n",
       "    .dataframe tbody tr th:only-of-type {\n",
       "        vertical-align: middle;\n",
       "    }\n",
       "\n",
       "    .dataframe tbody tr th {\n",
       "        vertical-align: top;\n",
       "    }\n",
       "\n",
       "    .dataframe thead th {\n",
       "        text-align: right;\n",
       "    }\n",
       "</style>\n",
       "<table border=\"1\" class=\"dataframe\">\n",
       "  <thead>\n",
       "    <tr style=\"text-align: right;\">\n",
       "      <th></th>\n",
       "      <th>Normalized_Unit</th>\n",
       "      <th>Normalized_Sales</th>\n",
       "    </tr>\n",
       "  </thead>\n",
       "  <tbody>\n",
       "    <tr>\n",
       "      <th>0</th>\n",
       "      <td>0.095238</td>\n",
       "      <td>0.095238</td>\n",
       "    </tr>\n",
       "    <tr>\n",
       "      <th>1</th>\n",
       "      <td>0.095238</td>\n",
       "      <td>0.095238</td>\n",
       "    </tr>\n",
       "    <tr>\n",
       "      <th>2</th>\n",
       "      <td>0.031746</td>\n",
       "      <td>0.031746</td>\n",
       "    </tr>\n",
       "    <tr>\n",
       "      <th>3</th>\n",
       "      <td>0.206349</td>\n",
       "      <td>0.206349</td>\n",
       "    </tr>\n",
       "    <tr>\n",
       "      <th>4</th>\n",
       "      <td>0.015873</td>\n",
       "      <td>0.015873</td>\n",
       "    </tr>\n",
       "    <tr>\n",
       "      <th>...</th>\n",
       "      <td>...</td>\n",
       "      <td>...</td>\n",
       "    </tr>\n",
       "    <tr>\n",
       "      <th>7555</th>\n",
       "      <td>0.190476</td>\n",
       "      <td>0.190476</td>\n",
       "    </tr>\n",
       "    <tr>\n",
       "      <th>7556</th>\n",
       "      <td>0.206349</td>\n",
       "      <td>0.206349</td>\n",
       "    </tr>\n",
       "    <tr>\n",
       "      <th>7557</th>\n",
       "      <td>0.206349</td>\n",
       "      <td>0.206349</td>\n",
       "    </tr>\n",
       "    <tr>\n",
       "      <th>7558</th>\n",
       "      <td>0.142857</td>\n",
       "      <td>0.142857</td>\n",
       "    </tr>\n",
       "    <tr>\n",
       "      <th>7559</th>\n",
       "      <td>0.174603</td>\n",
       "      <td>0.174603</td>\n",
       "    </tr>\n",
       "  </tbody>\n",
       "</table>\n",
       "<p>7560 rows × 2 columns</p>\n",
       "</div>"
      ],
      "text/plain": [
       "      Normalized_Unit  Normalized_Sales\n",
       "0            0.095238          0.095238\n",
       "1            0.095238          0.095238\n",
       "2            0.031746          0.031746\n",
       "3            0.206349          0.206349\n",
       "4            0.015873          0.015873\n",
       "...               ...               ...\n",
       "7555         0.190476          0.190476\n",
       "7556         0.206349          0.206349\n",
       "7557         0.206349          0.206349\n",
       "7558         0.142857          0.142857\n",
       "7559         0.174603          0.174603\n",
       "\n",
       "[7560 rows x 2 columns]"
      ]
     },
     "execution_count": 18,
     "metadata": {},
     "output_type": "execute_result"
    }
   ],
   "source": [
    "new_df"
   ]
  },
  {
   "cell_type": "code",
   "execution_count": 19,
   "id": "6280c3cc-868a-422a-a4a0-04d616b64fcb",
   "metadata": {},
   "outputs": [],
   "source": [
    "final_df=pd.concat([sales_df,new_df], axis=1, join='inner')"
   ]
  },
  {
   "cell_type": "code",
   "execution_count": 20,
   "id": "55abeb10-7da2-4d22-b991-59eea7549ffe",
   "metadata": {},
   "outputs": [
    {
     "data": {
      "text/html": [
       "<div>\n",
       "<style scoped>\n",
       "    .dataframe tbody tr th:only-of-type {\n",
       "        vertical-align: middle;\n",
       "    }\n",
       "\n",
       "    .dataframe tbody tr th {\n",
       "        vertical-align: top;\n",
       "    }\n",
       "\n",
       "    .dataframe thead th {\n",
       "        text-align: right;\n",
       "    }\n",
       "</style>\n",
       "<table border=\"1\" class=\"dataframe\">\n",
       "  <thead>\n",
       "    <tr style=\"text-align: right;\">\n",
       "      <th></th>\n",
       "      <th>Date</th>\n",
       "      <th>Time</th>\n",
       "      <th>State</th>\n",
       "      <th>Group</th>\n",
       "      <th>Unit</th>\n",
       "      <th>Sales</th>\n",
       "      <th>Normalized_Unit</th>\n",
       "      <th>Normalized_Sales</th>\n",
       "    </tr>\n",
       "  </thead>\n",
       "  <tbody>\n",
       "    <tr>\n",
       "      <th>0</th>\n",
       "      <td>1-Oct-2020</td>\n",
       "      <td>Morning</td>\n",
       "      <td>WA</td>\n",
       "      <td>Kids</td>\n",
       "      <td>8</td>\n",
       "      <td>20000</td>\n",
       "      <td>0.095238</td>\n",
       "      <td>0.095238</td>\n",
       "    </tr>\n",
       "    <tr>\n",
       "      <th>1</th>\n",
       "      <td>1-Oct-2020</td>\n",
       "      <td>Morning</td>\n",
       "      <td>WA</td>\n",
       "      <td>Men</td>\n",
       "      <td>8</td>\n",
       "      <td>20000</td>\n",
       "      <td>0.095238</td>\n",
       "      <td>0.095238</td>\n",
       "    </tr>\n",
       "    <tr>\n",
       "      <th>2</th>\n",
       "      <td>1-Oct-2020</td>\n",
       "      <td>Morning</td>\n",
       "      <td>WA</td>\n",
       "      <td>Women</td>\n",
       "      <td>4</td>\n",
       "      <td>10000</td>\n",
       "      <td>0.031746</td>\n",
       "      <td>0.031746</td>\n",
       "    </tr>\n",
       "    <tr>\n",
       "      <th>3</th>\n",
       "      <td>1-Oct-2020</td>\n",
       "      <td>Morning</td>\n",
       "      <td>WA</td>\n",
       "      <td>Seniors</td>\n",
       "      <td>15</td>\n",
       "      <td>37500</td>\n",
       "      <td>0.206349</td>\n",
       "      <td>0.206349</td>\n",
       "    </tr>\n",
       "    <tr>\n",
       "      <th>4</th>\n",
       "      <td>1-Oct-2020</td>\n",
       "      <td>Afternoon</td>\n",
       "      <td>WA</td>\n",
       "      <td>Kids</td>\n",
       "      <td>3</td>\n",
       "      <td>7500</td>\n",
       "      <td>0.015873</td>\n",
       "      <td>0.015873</td>\n",
       "    </tr>\n",
       "    <tr>\n",
       "      <th>...</th>\n",
       "      <td>...</td>\n",
       "      <td>...</td>\n",
       "      <td>...</td>\n",
       "      <td>...</td>\n",
       "      <td>...</td>\n",
       "      <td>...</td>\n",
       "      <td>...</td>\n",
       "      <td>...</td>\n",
       "    </tr>\n",
       "    <tr>\n",
       "      <th>7555</th>\n",
       "      <td>30-Dec-2020</td>\n",
       "      <td>Afternoon</td>\n",
       "      <td>TAS</td>\n",
       "      <td>Seniors</td>\n",
       "      <td>14</td>\n",
       "      <td>35000</td>\n",
       "      <td>0.190476</td>\n",
       "      <td>0.190476</td>\n",
       "    </tr>\n",
       "    <tr>\n",
       "      <th>7556</th>\n",
       "      <td>30-Dec-2020</td>\n",
       "      <td>Evening</td>\n",
       "      <td>TAS</td>\n",
       "      <td>Kids</td>\n",
       "      <td>15</td>\n",
       "      <td>37500</td>\n",
       "      <td>0.206349</td>\n",
       "      <td>0.206349</td>\n",
       "    </tr>\n",
       "    <tr>\n",
       "      <th>7557</th>\n",
       "      <td>30-Dec-2020</td>\n",
       "      <td>Evening</td>\n",
       "      <td>TAS</td>\n",
       "      <td>Men</td>\n",
       "      <td>15</td>\n",
       "      <td>37500</td>\n",
       "      <td>0.206349</td>\n",
       "      <td>0.206349</td>\n",
       "    </tr>\n",
       "    <tr>\n",
       "      <th>7558</th>\n",
       "      <td>30-Dec-2020</td>\n",
       "      <td>Evening</td>\n",
       "      <td>TAS</td>\n",
       "      <td>Women</td>\n",
       "      <td>11</td>\n",
       "      <td>27500</td>\n",
       "      <td>0.142857</td>\n",
       "      <td>0.142857</td>\n",
       "    </tr>\n",
       "    <tr>\n",
       "      <th>7559</th>\n",
       "      <td>30-Dec-2020</td>\n",
       "      <td>Evening</td>\n",
       "      <td>TAS</td>\n",
       "      <td>Seniors</td>\n",
       "      <td>13</td>\n",
       "      <td>32500</td>\n",
       "      <td>0.174603</td>\n",
       "      <td>0.174603</td>\n",
       "    </tr>\n",
       "  </tbody>\n",
       "</table>\n",
       "<p>7560 rows × 8 columns</p>\n",
       "</div>"
      ],
      "text/plain": [
       "             Date        Time State     Group  Unit  Sales  Normalized_Unit  \\\n",
       "0      1-Oct-2020     Morning    WA      Kids     8  20000         0.095238   \n",
       "1      1-Oct-2020     Morning    WA       Men     8  20000         0.095238   \n",
       "2      1-Oct-2020     Morning    WA     Women     4  10000         0.031746   \n",
       "3      1-Oct-2020     Morning    WA   Seniors    15  37500         0.206349   \n",
       "4      1-Oct-2020   Afternoon    WA      Kids     3   7500         0.015873   \n",
       "...           ...         ...   ...       ...   ...    ...              ...   \n",
       "7555  30-Dec-2020   Afternoon   TAS   Seniors    14  35000         0.190476   \n",
       "7556  30-Dec-2020     Evening   TAS      Kids    15  37500         0.206349   \n",
       "7557  30-Dec-2020     Evening   TAS       Men    15  37500         0.206349   \n",
       "7558  30-Dec-2020     Evening   TAS     Women    11  27500         0.142857   \n",
       "7559  30-Dec-2020     Evening   TAS   Seniors    13  32500         0.174603   \n",
       "\n",
       "      Normalized_Sales  \n",
       "0             0.095238  \n",
       "1             0.095238  \n",
       "2             0.031746  \n",
       "3             0.206349  \n",
       "4             0.015873  \n",
       "...                ...  \n",
       "7555          0.190476  \n",
       "7556          0.206349  \n",
       "7557          0.206349  \n",
       "7558          0.142857  \n",
       "7559          0.174603  \n",
       "\n",
       "[7560 rows x 8 columns]"
      ]
     },
     "execution_count": 20,
     "metadata": {},
     "output_type": "execute_result"
    }
   ],
   "source": [
    "final_df"
   ]
  },
  {
   "cell_type": "code",
   "execution_count": 49,
   "id": "09264ea7-34e8-4aae-8a09-1c57687f7c64",
   "metadata": {},
   "outputs": [
    {
     "data": {
      "image/png": "[encoded data removed]",
      "text/plain": [
       "<Figure size 1500x700 with 2 Axes>"
      ]
     },
     "metadata": {},
     "output_type": "display_data"
    }
   ],
   "source": [
    "plt.figure(figsize=(15, 7))\n",
    "plt.subplot(1, 2, 1)\n",
    "sns.boxplot(y=final_df['Normalized_Unit'], color='cyan')\n",
    "plt.title('Distribution of Normalized_Unit')\n",
    "\n",
    "plt.subplot(1, 2, 2)\n",
    "sns.boxplot(y=final_df['Normalized_Sales'], color='cyan')\n",
    "plt.title('Distribution of Normalized_Sales')\n",
    "\n",
    "plt.show()"
   ]
  },
  {
   "cell_type": "code",
   "execution_count": null,
   "id": "971e6f9a-aa91-4d8d-99f5-c2b91e4c2662",
   "metadata": {},
   "outputs": [],
   "source": []
  },
  {
   "cell_type": "markdown",
   "id": "80945991-b129-4ccc-be3d-a6781ed1596a",
   "metadata": {},
   "source": [
    "### Outlier Detection & Removal"
   ]
  },
  {
   "cell_type": "code",
   "execution_count": 62,
   "id": "484a79b6-4068-428d-925f-33fb67e067ac",
   "metadata": {},
   "outputs": [],
   "source": [
    "def outlier_treatment(datacolumn):\n",
    "    sorted(datacolumn)\n",
    "    Q1,Q3=np.percentile(datacolumn,[25,75])      \n",
    "    IQR=Q3-Q1\n",
    "    lower_range= Q1-(1.5*IQR)\n",
    "    upper_range= Q3+(1.5*IQR)\n",
    "    return lower_range, upper_range"
   ]
  },
  {
   "cell_type": "code",
   "execution_count": 79,
   "id": "4a712d80-71f8-4659-b2db-521b646923af",
   "metadata": {},
   "outputs": [],
   "source": [
    "lower,upper= outlier_treatment(final_df['Normalized_Sales'])"
   ]
  },
  {
   "cell_type": "code",
   "execution_count": 80,
   "id": "39bd9d9a-6af5-4ec8-be03-436457c76cb0",
   "metadata": {},
   "outputs": [],
   "source": [
    "final_df.drop(final_df[(final_df['Normalized_Sales'] > upper) | (final_df['Normalized_Sales'] < lower)].index, inplace=True)"
   ]
  },
  {
   "cell_type": "code",
   "execution_count": 81,
   "id": "53d0631d-2430-48aa-b65e-ae9edfed065c",
   "metadata": {},
   "outputs": [],
   "source": [
    "lower,upper= outlier_treatment(final_df['Normalized_Unit'])"
   ]
  },
  {
   "cell_type": "code",
   "execution_count": 82,
   "id": "81c763bd-1140-4982-97db-3b362cc77f4c",
   "metadata": {},
   "outputs": [],
   "source": [
    "final_df.drop(final_df[(final_df['Normalized_Unit'] > upper) | (final_df['Normalized_Unit'] < lower)].index, inplace=True)"
   ]
  },
  {
   "cell_type": "code",
   "execution_count": 83,
   "id": "174057d4-6eac-44e7-8227-f8d27213294a",
   "metadata": {},
   "outputs": [
    {
     "data": {
      "text/plain": [
       "(7409, 8)"
      ]
     },
     "execution_count": 83,
     "metadata": {},
     "output_type": "execute_result"
    }
   ],
   "source": [
    "final_df.shape"
   ]
  },
  {
   "cell_type": "code",
   "execution_count": 84,
   "id": "5bc14794-5934-4998-85b7-224d94325831",
   "metadata": {},
   "outputs": [
    {
     "data": {
      "image/png": "[encoded data removed]",
      "text/plain": [
       "<Figure size 1500x700 with 2 Axes>"
      ]
     },
     "metadata": {},
     "output_type": "display_data"
    }
   ],
   "source": [
    "plt.figure(figsize=(15, 7))\n",
    "plt.subplot(1, 2, 1)\n",
    "sns.boxplot(y=final_df['Normalized_Unit'], color='cyan')\n",
    "plt.title('Distribution of Normalized_Unit')\n",
    "\n",
    "plt.subplot(1, 2, 2)\n",
    "sns.boxplot(y=final_df['Normalized_Sales'], color='cyan')\n",
    "plt.title('Distribution of Normalized_Sales')\n",
    "\n",
    "plt.show()"
   ]
  },
  {
   "cell_type": "code",
   "execution_count": 85,
   "id": "d4a492d6-e838-4276-a5d4-c0c22a82f54e",
   "metadata": {},
   "outputs": [],
   "source": [
    "# Note: The cleaned dataset is not considered for the further questions"
   ]
  },
  {
   "cell_type": "code",
   "execution_count": null,
   "id": "eca6284e-9358-4c49-bd30-29d6e2a70d78",
   "metadata": {},
   "outputs": [],
   "source": []
  },
  {
   "cell_type": "markdown",
   "id": "9e424707-a267-4b5d-a7cf-32b30e29c71d",
   "metadata": {},
   "source": [
    "# 3. Data Analysis"
   ]
  },
  {
   "cell_type": "markdown",
   "id": "4f420164-2629-4cb2-807f-ee51fd26d29b",
   "metadata": {},
   "source": [
    "## 3.1 Descriptive Statistical Analysis On The Data In The Sales And Unit Columns"
   ]
  },
  {
   "cell_type": "code",
   "execution_count": 22,
   "id": "0cc512e0-35a2-44d4-bb24-16d0123bee47",
   "metadata": {},
   "outputs": [],
   "source": [
    "unit_sales_df=sales_df[['Unit','Sales']].describe()"
   ]
  },
  {
   "cell_type": "code",
   "execution_count": 23,
   "id": "ea27217c-d369-4fda-83da-bec89be5d945",
   "metadata": {},
   "outputs": [
    {
     "data": {
      "text/html": [
       "<div>\n",
       "<style scoped>\n",
       "    .dataframe tbody tr th:only-of-type {\n",
       "        vertical-align: middle;\n",
       "    }\n",
       "\n",
       "    .dataframe tbody tr th {\n",
       "        vertical-align: top;\n",
       "    }\n",
       "\n",
       "    .dataframe thead th {\n",
       "        text-align: right;\n",
       "    }\n",
       "</style>\n",
       "<table border=\"1\" class=\"dataframe\">\n",
       "  <thead>\n",
       "    <tr style=\"text-align: right;\">\n",
       "      <th></th>\n",
       "      <th>Unit</th>\n",
       "      <th>Sales</th>\n",
       "    </tr>\n",
       "  </thead>\n",
       "  <tbody>\n",
       "    <tr>\n",
       "      <th>count</th>\n",
       "      <td>7560.000000</td>\n",
       "      <td>7560.000000</td>\n",
       "    </tr>\n",
       "    <tr>\n",
       "      <th>mean</th>\n",
       "      <td>18.005423</td>\n",
       "      <td>45013.558201</td>\n",
       "    </tr>\n",
       "    <tr>\n",
       "      <th>std</th>\n",
       "      <td>12.901403</td>\n",
       "      <td>32253.506944</td>\n",
       "    </tr>\n",
       "    <tr>\n",
       "      <th>min</th>\n",
       "      <td>2.000000</td>\n",
       "      <td>5000.000000</td>\n",
       "    </tr>\n",
       "    <tr>\n",
       "      <th>25%</th>\n",
       "      <td>8.000000</td>\n",
       "      <td>20000.000000</td>\n",
       "    </tr>\n",
       "    <tr>\n",
       "      <th>50%</th>\n",
       "      <td>14.000000</td>\n",
       "      <td>35000.000000</td>\n",
       "    </tr>\n",
       "    <tr>\n",
       "      <th>75%</th>\n",
       "      <td>26.000000</td>\n",
       "      <td>65000.000000</td>\n",
       "    </tr>\n",
       "    <tr>\n",
       "      <th>max</th>\n",
       "      <td>65.000000</td>\n",
       "      <td>162500.000000</td>\n",
       "    </tr>\n",
       "  </tbody>\n",
       "</table>\n",
       "</div>"
      ],
      "text/plain": [
       "              Unit          Sales\n",
       "count  7560.000000    7560.000000\n",
       "mean     18.005423   45013.558201\n",
       "std      12.901403   32253.506944\n",
       "min       2.000000    5000.000000\n",
       "25%       8.000000   20000.000000\n",
       "50%      14.000000   35000.000000\n",
       "75%      26.000000   65000.000000\n",
       "max      65.000000  162500.000000"
      ]
     },
     "execution_count": 23,
     "metadata": {},
     "output_type": "execute_result"
    }
   ],
   "source": [
    "unit_sales_df"
   ]
  },
  {
   "cell_type": "code",
   "execution_count": null,
   "id": "674e33bd-4876-4a0e-9027-b66608823d5f",
   "metadata": {},
   "outputs": [],
   "source": []
  },
  {
   "cell_type": "markdown",
   "id": "f3c93f5a-c74a-4748-8bc6-1a3331c4633e",
   "metadata": {},
   "source": [
    "## 3.2 Group With The Highest Sales And The Group With The Lowest Sales"
   ]
  },
  {
   "cell_type": "code",
   "execution_count": 24,
   "id": "427708e9-e200-45ea-a60d-b030ecb28833",
   "metadata": {},
   "outputs": [],
   "source": [
    "sale_summary=sales_df.groupby(['Group']).agg({'Sales':'sum'})"
   ]
  },
  {
   "cell_type": "code",
   "execution_count": 25,
   "id": "6d103087-d15d-4269-aa37-d688af12a668",
   "metadata": {},
   "outputs": [
    {
     "data": {
      "text/html": [
       "<div>\n",
       "<style scoped>\n",
       "    .dataframe tbody tr th:only-of-type {\n",
       "        vertical-align: middle;\n",
       "    }\n",
       "\n",
       "    .dataframe tbody tr th {\n",
       "        vertical-align: top;\n",
       "    }\n",
       "\n",
       "    .dataframe thead th {\n",
       "        text-align: right;\n",
       "    }\n",
       "</style>\n",
       "<table border=\"1\" class=\"dataframe\">\n",
       "  <thead>\n",
       "    <tr style=\"text-align: right;\">\n",
       "      <th></th>\n",
       "      <th>Sales</th>\n",
       "    </tr>\n",
       "    <tr>\n",
       "      <th>Group</th>\n",
       "      <th></th>\n",
       "    </tr>\n",
       "  </thead>\n",
       "  <tbody>\n",
       "    <tr>\n",
       "      <th>Men</th>\n",
       "      <td>85750000</td>\n",
       "    </tr>\n",
       "    <tr>\n",
       "      <th>Women</th>\n",
       "      <td>85442500</td>\n",
       "    </tr>\n",
       "    <tr>\n",
       "      <th>Kids</th>\n",
       "      <td>85072500</td>\n",
       "    </tr>\n",
       "    <tr>\n",
       "      <th>Seniors</th>\n",
       "      <td>84037500</td>\n",
       "    </tr>\n",
       "  </tbody>\n",
       "</table>\n",
       "</div>"
      ],
      "text/plain": [
       "             Sales\n",
       "Group             \n",
       " Men      85750000\n",
       " Women    85442500\n",
       " Kids     85072500\n",
       " Seniors  84037500"
      ]
     },
     "execution_count": 25,
     "metadata": {},
     "output_type": "execute_result"
    }
   ],
   "source": [
    "sale_summary.sort_values(by='Sales', ascending=False)"
   ]
  },
  {
   "cell_type": "code",
   "execution_count": 26,
   "id": "1cccdab7-01fc-425f-a343-7f70ea11b861",
   "metadata": {},
   "outputs": [],
   "source": [
    "highest_sales=sale_summary.idxmax()"
   ]
  },
  {
   "cell_type": "code",
   "execution_count": 27,
   "id": "5e952996-8e4f-482d-887e-6b9ff797b7c6",
   "metadata": {},
   "outputs": [
    {
     "data": {
      "text/plain": [
       "Sales     Men\n",
       "dtype: object"
      ]
     },
     "execution_count": 27,
     "metadata": {},
     "output_type": "execute_result"
    }
   ],
   "source": [
    "highest_sales"
   ]
  },
  {
   "cell_type": "code",
   "execution_count": 28,
   "id": "8604ad8f-ee66-456c-a1d1-54e80e103507",
   "metadata": {},
   "outputs": [],
   "source": [
    "lowest_sales=sale_summary.idxmin()"
   ]
  },
  {
   "cell_type": "code",
   "execution_count": 29,
   "id": "960e2695-7a54-4438-a3d4-ce98f9fd375c",
   "metadata": {},
   "outputs": [
    {
     "data": {
      "text/plain": [
       "Sales     Seniors\n",
       "dtype: object"
      ]
     },
     "execution_count": 29,
     "metadata": {},
     "output_type": "execute_result"
    }
   ],
   "source": [
    "lowest_sales"
   ]
  },
  {
   "cell_type": "code",
   "execution_count": 100,
   "id": "7c0f6fdf-9d9f-439d-87c9-ca255249a30a",
   "metadata": {},
   "outputs": [
    {
     "data": {
      "text/plain": [
       "<Axes: xlabel='Group', ylabel='Sales'>"
      ]
     },
     "execution_count": 100,
     "metadata": {},
     "output_type": "execute_result"
    },
    {
     "data": {
      "image/png": "[encoded data removed]",
      "text/plain": [
       "<Figure size 1000x600 with 1 Axes>"
      ]
     },
     "metadata": {},
     "output_type": "display_data"
    }
   ],
   "source": [
    "plt.figure(figsize=(10, 6))\n",
    "sns.lineplot(data=sale_summary, x='Group', y='Sales', color='cyan')"
   ]
  },
  {
   "cell_type": "code",
   "execution_count": null,
   "id": "a8b40e06-9257-467c-930a-73fa231876d4",
   "metadata": {},
   "outputs": [],
   "source": []
  },
  {
   "cell_type": "markdown",
   "id": "35f188c6-3e1a-411a-8ec1-0ef92c15d958",
   "metadata": {},
   "source": [
    "## 3.3 Weekly, Monthly, And Quarterly Reports"
   ]
  },
  {
   "cell_type": "code",
   "execution_count": 31,
   "id": "b4bb3b2a-eb94-45ee-946b-4acb33593080",
   "metadata": {},
   "outputs": [],
   "source": [
    "sales_df['Date']=pd.to_datetime(sales_df['Date'])"
   ]
  },
  {
   "cell_type": "code",
   "execution_count": 32,
   "id": "f51ffb60-f486-4ae2-a74f-df2340d63f2c",
   "metadata": {},
   "outputs": [
    {
     "data": {
      "text/html": [
       "<div>\n",
       "<style scoped>\n",
       "    .dataframe tbody tr th:only-of-type {\n",
       "        vertical-align: middle;\n",
       "    }\n",
       "\n",
       "    .dataframe tbody tr th {\n",
       "        vertical-align: top;\n",
       "    }\n",
       "\n",
       "    .dataframe thead th {\n",
       "        text-align: right;\n",
       "    }\n",
       "</style>\n",
       "<table border=\"1\" class=\"dataframe\">\n",
       "  <thead>\n",
       "    <tr style=\"text-align: right;\">\n",
       "      <th></th>\n",
       "      <th>Date</th>\n",
       "      <th>Time</th>\n",
       "      <th>State</th>\n",
       "      <th>Group</th>\n",
       "      <th>Unit</th>\n",
       "      <th>Sales</th>\n",
       "    </tr>\n",
       "  </thead>\n",
       "  <tbody>\n",
       "    <tr>\n",
       "      <th>0</th>\n",
       "      <td>2020-10-01</td>\n",
       "      <td>Morning</td>\n",
       "      <td>WA</td>\n",
       "      <td>Kids</td>\n",
       "      <td>8</td>\n",
       "      <td>20000</td>\n",
       "    </tr>\n",
       "    <tr>\n",
       "      <th>1</th>\n",
       "      <td>2020-10-01</td>\n",
       "      <td>Morning</td>\n",
       "      <td>WA</td>\n",
       "      <td>Men</td>\n",
       "      <td>8</td>\n",
       "      <td>20000</td>\n",
       "    </tr>\n",
       "    <tr>\n",
       "      <th>2</th>\n",
       "      <td>2020-10-01</td>\n",
       "      <td>Morning</td>\n",
       "      <td>WA</td>\n",
       "      <td>Women</td>\n",
       "      <td>4</td>\n",
       "      <td>10000</td>\n",
       "    </tr>\n",
       "    <tr>\n",
       "      <th>3</th>\n",
       "      <td>2020-10-01</td>\n",
       "      <td>Morning</td>\n",
       "      <td>WA</td>\n",
       "      <td>Seniors</td>\n",
       "      <td>15</td>\n",
       "      <td>37500</td>\n",
       "    </tr>\n",
       "    <tr>\n",
       "      <th>4</th>\n",
       "      <td>2020-10-01</td>\n",
       "      <td>Afternoon</td>\n",
       "      <td>WA</td>\n",
       "      <td>Kids</td>\n",
       "      <td>3</td>\n",
       "      <td>7500</td>\n",
       "    </tr>\n",
       "    <tr>\n",
       "      <th>...</th>\n",
       "      <td>...</td>\n",
       "      <td>...</td>\n",
       "      <td>...</td>\n",
       "      <td>...</td>\n",
       "      <td>...</td>\n",
       "      <td>...</td>\n",
       "    </tr>\n",
       "    <tr>\n",
       "      <th>7555</th>\n",
       "      <td>2020-12-30</td>\n",
       "      <td>Afternoon</td>\n",
       "      <td>TAS</td>\n",
       "      <td>Seniors</td>\n",
       "      <td>14</td>\n",
       "      <td>35000</td>\n",
       "    </tr>\n",
       "    <tr>\n",
       "      <th>7556</th>\n",
       "      <td>2020-12-30</td>\n",
       "      <td>Evening</td>\n",
       "      <td>TAS</td>\n",
       "      <td>Kids</td>\n",
       "      <td>15</td>\n",
       "      <td>37500</td>\n",
       "    </tr>\n",
       "    <tr>\n",
       "      <th>7557</th>\n",
       "      <td>2020-12-30</td>\n",
       "      <td>Evening</td>\n",
       "      <td>TAS</td>\n",
       "      <td>Men</td>\n",
       "      <td>15</td>\n",
       "      <td>37500</td>\n",
       "    </tr>\n",
       "    <tr>\n",
       "      <th>7558</th>\n",
       "      <td>2020-12-30</td>\n",
       "      <td>Evening</td>\n",
       "      <td>TAS</td>\n",
       "      <td>Women</td>\n",
       "      <td>11</td>\n",
       "      <td>27500</td>\n",
       "    </tr>\n",
       "    <tr>\n",
       "      <th>7559</th>\n",
       "      <td>2020-12-30</td>\n",
       "      <td>Evening</td>\n",
       "      <td>TAS</td>\n",
       "      <td>Seniors</td>\n",
       "      <td>13</td>\n",
       "      <td>32500</td>\n",
       "    </tr>\n",
       "  </tbody>\n",
       "</table>\n",
       "<p>7560 rows × 6 columns</p>\n",
       "</div>"
      ],
      "text/plain": [
       "           Date        Time State     Group  Unit  Sales\n",
       "0    2020-10-01     Morning    WA      Kids     8  20000\n",
       "1    2020-10-01     Morning    WA       Men     8  20000\n",
       "2    2020-10-01     Morning    WA     Women     4  10000\n",
       "3    2020-10-01     Morning    WA   Seniors    15  37500\n",
       "4    2020-10-01   Afternoon    WA      Kids     3   7500\n",
       "...         ...         ...   ...       ...   ...    ...\n",
       "7555 2020-12-30   Afternoon   TAS   Seniors    14  35000\n",
       "7556 2020-12-30     Evening   TAS      Kids    15  37500\n",
       "7557 2020-12-30     Evening   TAS       Men    15  37500\n",
       "7558 2020-12-30     Evening   TAS     Women    11  27500\n",
       "7559 2020-12-30     Evening   TAS   Seniors    13  32500\n",
       "\n",
       "[7560 rows x 6 columns]"
      ]
     },
     "execution_count": 32,
     "metadata": {},
     "output_type": "execute_result"
    }
   ],
   "source": [
    "sales_df"
   ]
  },
  {
   "cell_type": "markdown",
   "id": "c395cd11-c30e-4f40-bbe9-90f81e8172e2",
   "metadata": {},
   "source": [
    "### 3.3.1 Weekly Report"
   ]
  },
  {
   "cell_type": "code",
   "execution_count": 33,
   "id": "4d45aa25-e54a-401b-a218-ea9b3953ba8c",
   "metadata": {},
   "outputs": [],
   "source": [
    "weekly_report=sales_df.groupby(pd.Grouper(key='Date', freq='W')).agg({'Sales':'sum'})"
   ]
  },
  {
   "cell_type": "code",
   "execution_count": 34,
   "id": "a9f3f308-d811-4f8b-8d6b-dbed1d847da4",
   "metadata": {},
   "outputs": [
    {
     "name": "stdout",
     "output_type": "stream",
     "text": [
      "\n",
      " Weekly Report \n",
      "                Sales\n",
      "Date                \n",
      "2020-10-04  15045000\n",
      "2020-10-11  27002500\n",
      "2020-10-18  26640000\n",
      "2020-10-25  26815000\n",
      "2020-11-01  21807500\n",
      "2020-11-08  20865000\n",
      "2020-11-15  21172500\n",
      "2020-11-22  21112500\n",
      "2020-11-29  21477500\n",
      "2020-12-06  29622500\n",
      "2020-12-13  31525000\n",
      "2020-12-20  31655000\n",
      "2020-12-27  31770000\n",
      "2021-01-03  13792500\n"
     ]
    }
   ],
   "source": [
    "print('\\n Weekly Report \\n',weekly_report)"
   ]
  },
  {
   "cell_type": "code",
   "execution_count": 51,
   "id": "fbd7627a-3d55-4907-949d-5c62fe951cff",
   "metadata": {},
   "outputs": [
    {
     "data": {
      "image/png": "[encoded data removed]",
      "text/plain": [
       "<Figure size 1200x600 with 1 Axes>"
      ]
     },
     "metadata": {},
     "output_type": "display_data"
    }
   ],
   "source": [
    "plt.figure(figsize=(12,6))\n",
    "sns.barplot(data=weekly_report, x='Date', y='Sales', color='cyan')\n",
    "plt.xticks(rotation=45)\n",
    "plt.show()"
   ]
  },
  {
   "cell_type": "markdown",
   "id": "a7f33b43-2404-4dd9-bac3-a115e1403a8b",
   "metadata": {},
   "source": [
    "### Monthly Report"
   ]
  },
  {
   "cell_type": "code",
   "execution_count": 36,
   "id": "007beae8-f139-4052-93b8-136bbc1bc925",
   "metadata": {},
   "outputs": [],
   "source": [
    "monthly_report=sales_df.groupby(pd.Grouper(key='Date', freq='M')).agg({'Sales':'sum'})"
   ]
  },
  {
   "cell_type": "code",
   "execution_count": 37,
   "id": "8f954930-df52-43ab-981b-5e480fcdcdd2",
   "metadata": {},
   "outputs": [
    {
     "name": "stdout",
     "output_type": "stream",
     "text": [
      "\n",
      " Monthly Report \n",
      "                 Sales\n",
      "Date                 \n",
      "2020-10-31  114290000\n",
      "2020-11-30   90682500\n",
      "2020-12-31  135330000\n"
     ]
    }
   ],
   "source": [
    "print('\\n Monthly Report \\n',monthly_report)"
   ]
  },
  {
   "cell_type": "code",
   "execution_count": 52,
   "id": "c6cbf58d-ba2e-4697-8d27-8ffdc420447a",
   "metadata": {},
   "outputs": [
    {
     "data": {
      "text/plain": [
       "<Axes: xlabel='Date', ylabel='Sales'>"
      ]
     },
     "execution_count": 52,
     "metadata": {},
     "output_type": "execute_result"
    },
    {
     "data": {
      "image/png": "[encoded data removed]",
      "text/plain": [
       "<Figure size 640x480 with 1 Axes>"
      ]
     },
     "metadata": {},
     "output_type": "display_data"
    }
   ],
   "source": [
    "sns.barplot(data=monthly_report, x='Date', y='Sales', color='cyan')"
   ]
  },
  {
   "cell_type": "code",
   "execution_count": null,
   "id": "61187142-c7a4-4170-b8b9-7de99dee57c7",
   "metadata": {},
   "outputs": [],
   "source": []
  },
  {
   "cell_type": "markdown",
   "id": "11102035-94e9-434b-89db-d7260079fd26",
   "metadata": {},
   "source": [
    "### 3.3.3 Quarterly Report"
   ]
  },
  {
   "cell_type": "code",
   "execution_count": 39,
   "id": "fb211920-d208-41cd-9761-145fd1443f07",
   "metadata": {},
   "outputs": [],
   "source": [
    "quarterly_report = sales_df.groupby(pd.Grouper(key='Date', freq='Q')).agg({'Sales':'sum'})"
   ]
  },
  {
   "cell_type": "code",
   "execution_count": 40,
   "id": "5f0efc8f-8997-4081-b8ae-8e8a743fe140",
   "metadata": {},
   "outputs": [
    {
     "name": "stdout",
     "output_type": "stream",
     "text": [
      "\n",
      " Quarterly Report \n",
      "                 Sales\n",
      "Date                 \n",
      "2020-12-31  340302500\n"
     ]
    }
   ],
   "source": [
    "print('\\n Quarterly Report \\n', quarterly_report)"
   ]
  },
  {
   "cell_type": "code",
   "execution_count": null,
   "id": "552ccce1-56f8-4d86-9252-5738786a27b6",
   "metadata": {},
   "outputs": [],
   "source": []
  },
  {
   "cell_type": "markdown",
   "id": "30eac17b-e4f7-41c3-a111-7ce72120f2df",
   "metadata": {},
   "source": [
    "# 4 Data Visualization"
   ]
  },
  {
   "cell_type": "markdown",
   "id": "b54186c7-1099-4d7f-8f97-93fc5f35080b",
   "metadata": {},
   "source": [
    "## 4.1 State-Wise Sales Analysis Across Groups"
   ]
  },
  {
   "cell_type": "code",
   "execution_count": 41,
   "id": "27e0ab57-417b-4b0c-86c5-25073a72f7fe",
   "metadata": {},
   "outputs": [
    {
     "data": {
      "text/plain": [
       "array([' WA', ' NT', ' SA', ' VIC', ' QLD', ' NSW', ' TAS'], dtype=object)"
      ]
     },
     "execution_count": 41,
     "metadata": {},
     "output_type": "execute_result"
    }
   ],
   "source": [
    "sales_df['State'].unique()"
   ]
  },
  {
   "cell_type": "code",
   "execution_count": 90,
   "id": "bf50c17e-0ce1-4bcf-98b6-4f6081fd55d3",
   "metadata": {},
   "outputs": [],
   "source": [
    "# groupby():\n",
    "# It lets you organize rows into groups based on one or more column values,\n",
    "# so you can perform operations on each group separately and then bring the results back together.\n",
    "# This is especially useful for breaking data into meaningful segments (chunking) or summarizing data\n",
    "# through aggregation before merging it back.\n"
   ]
  },
  {
   "cell_type": "code",
   "execution_count": 42,
   "id": "a84e2c38-187b-4d1e-9322-7879cc4a4ccd",
   "metadata": {},
   "outputs": [],
   "source": [
    "state_df = sales_df.groupby(['State','Group']).agg({'Sales':'sum'}).unstack()"
   ]
  },
  {
   "cell_type": "code",
   "execution_count": 43,
   "id": "a4a777e0-9a37-4652-b1b6-12614249cdb5",
   "metadata": {},
   "outputs": [
    {
     "data": {
      "text/html": [
       "<div>\n",
       "<style scoped>\n",
       "    .dataframe tbody tr th:only-of-type {\n",
       "        vertical-align: middle;\n",
       "    }\n",
       "\n",
       "    .dataframe tbody tr th {\n",
       "        vertical-align: top;\n",
       "    }\n",
       "\n",
       "    .dataframe thead tr th {\n",
       "        text-align: left;\n",
       "    }\n",
       "\n",
       "    .dataframe thead tr:last-of-type th {\n",
       "        text-align: right;\n",
       "    }\n",
       "</style>\n",
       "<table border=\"1\" class=\"dataframe\">\n",
       "  <thead>\n",
       "    <tr>\n",
       "      <th></th>\n",
       "      <th colspan=\"4\" halign=\"left\">Sales</th>\n",
       "    </tr>\n",
       "    <tr>\n",
       "      <th>Group</th>\n",
       "      <th>Kids</th>\n",
       "      <th>Men</th>\n",
       "      <th>Seniors</th>\n",
       "      <th>Women</th>\n",
       "    </tr>\n",
       "    <tr>\n",
       "      <th>State</th>\n",
       "      <th></th>\n",
       "      <th></th>\n",
       "      <th></th>\n",
       "      <th></th>\n",
       "    </tr>\n",
       "  </thead>\n",
       "  <tbody>\n",
       "    <tr>\n",
       "      <th>NSW</th>\n",
       "      <td>18587500</td>\n",
       "      <td>19022500</td>\n",
       "      <td>18187500</td>\n",
       "      <td>19172500</td>\n",
       "    </tr>\n",
       "    <tr>\n",
       "      <th>NT</th>\n",
       "      <td>5700000</td>\n",
       "      <td>5762500</td>\n",
       "      <td>5465000</td>\n",
       "      <td>5652500</td>\n",
       "    </tr>\n",
       "    <tr>\n",
       "      <th>QLD</th>\n",
       "      <td>8510000</td>\n",
       "      <td>8392500</td>\n",
       "      <td>8190000</td>\n",
       "      <td>8325000</td>\n",
       "    </tr>\n",
       "    <tr>\n",
       "      <th>SA</th>\n",
       "      <td>14515000</td>\n",
       "      <td>14655000</td>\n",
       "      <td>14717500</td>\n",
       "      <td>14970000</td>\n",
       "    </tr>\n",
       "    <tr>\n",
       "      <th>TAS</th>\n",
       "      <td>5775000</td>\n",
       "      <td>5757500</td>\n",
       "      <td>5650000</td>\n",
       "      <td>5577500</td>\n",
       "    </tr>\n",
       "    <tr>\n",
       "      <th>VIC</th>\n",
       "      <td>26360000</td>\n",
       "      <td>26407500</td>\n",
       "      <td>26315000</td>\n",
       "      <td>26482500</td>\n",
       "    </tr>\n",
       "    <tr>\n",
       "      <th>WA</th>\n",
       "      <td>5625000</td>\n",
       "      <td>5752500</td>\n",
       "      <td>5512500</td>\n",
       "      <td>5262500</td>\n",
       "    </tr>\n",
       "  </tbody>\n",
       "</table>\n",
       "</div>"
      ],
      "text/plain": [
       "          Sales                              \n",
       "Group      Kids       Men   Seniors     Women\n",
       "State                                        \n",
       " NSW   18587500  19022500  18187500  19172500\n",
       " NT     5700000   5762500   5465000   5652500\n",
       " QLD    8510000   8392500   8190000   8325000\n",
       " SA    14515000  14655000  14717500  14970000\n",
       " TAS    5775000   5757500   5650000   5577500\n",
       " VIC   26360000  26407500  26315000  26482500\n",
       " WA     5625000   5752500   5512500   5262500"
      ]
     },
     "execution_count": 43,
     "metadata": {},
     "output_type": "execute_result"
    }
   ],
   "source": [
    "state_df"
   ]
  },
  {
   "cell_type": "code",
   "execution_count": 58,
   "id": "9b764678-f127-491d-983e-667153362262",
   "metadata": {},
   "outputs": [
    {
     "data": {
      "text/plain": [
       "Text(0.5, 1.0, 'State-Wise Sales Analysis Across All Groups')"
      ]
     },
     "execution_count": 58,
     "metadata": {},
     "output_type": "execute_result"
    },
    {
     "data": {
      "image/png": "[encoded data removed]",
      "text/plain": [
       "<Figure size 1000x600 with 1 Axes>"
      ]
     },
     "metadata": {},
     "output_type": "display_data"
    }
   ],
   "source": [
    "state_df.plot(kind='bar', stacked=True, figsize=(10, 6))\n",
    "plt.title('State-Wise Sales Analysis Across All Groups')"
   ]
  },
  {
   "cell_type": "markdown",
   "id": "0c162727-dbc6-4512-977b-1ccc5d50324f",
   "metadata": {},
   "source": [
    "## 4.2 Group-Wise Sales Analysis Across States"
   ]
  },
  {
   "cell_type": "code",
   "execution_count": 45,
   "id": "4bfdae45-04c9-4b1c-98ce-60b3721b9408",
   "metadata": {},
   "outputs": [],
   "source": [
    "group_df = sales_df.groupby(['Group','State']).agg({'Sales':'sum'}).unstack()"
   ]
  },
  {
   "cell_type": "code",
   "execution_count": 46,
   "id": "6a9967b6-64a1-4a7e-b508-d73da319e805",
   "metadata": {},
   "outputs": [
    {
     "data": {
      "text/html": [
       "<div>\n",
       "<style scoped>\n",
       "    .dataframe tbody tr th:only-of-type {\n",
       "        vertical-align: middle;\n",
       "    }\n",
       "\n",
       "    .dataframe tbody tr th {\n",
       "        vertical-align: top;\n",
       "    }\n",
       "\n",
       "    .dataframe thead tr th {\n",
       "        text-align: left;\n",
       "    }\n",
       "\n",
       "    .dataframe thead tr:last-of-type th {\n",
       "        text-align: right;\n",
       "    }\n",
       "</style>\n",
       "<table border=\"1\" class=\"dataframe\">\n",
       "  <thead>\n",
       "    <tr>\n",
       "      <th></th>\n",
       "      <th colspan=\"7\" halign=\"left\">Sales</th>\n",
       "    </tr>\n",
       "    <tr>\n",
       "      <th>State</th>\n",
       "      <th>NSW</th>\n",
       "      <th>NT</th>\n",
       "      <th>QLD</th>\n",
       "      <th>SA</th>\n",
       "      <th>TAS</th>\n",
       "      <th>VIC</th>\n",
       "      <th>WA</th>\n",
       "    </tr>\n",
       "    <tr>\n",
       "      <th>Group</th>\n",
       "      <th></th>\n",
       "      <th></th>\n",
       "      <th></th>\n",
       "      <th></th>\n",
       "      <th></th>\n",
       "      <th></th>\n",
       "      <th></th>\n",
       "    </tr>\n",
       "  </thead>\n",
       "  <tbody>\n",
       "    <tr>\n",
       "      <th>Kids</th>\n",
       "      <td>18587500</td>\n",
       "      <td>5700000</td>\n",
       "      <td>8510000</td>\n",
       "      <td>14515000</td>\n",
       "      <td>5775000</td>\n",
       "      <td>26360000</td>\n",
       "      <td>5625000</td>\n",
       "    </tr>\n",
       "    <tr>\n",
       "      <th>Men</th>\n",
       "      <td>19022500</td>\n",
       "      <td>5762500</td>\n",
       "      <td>8392500</td>\n",
       "      <td>14655000</td>\n",
       "      <td>5757500</td>\n",
       "      <td>26407500</td>\n",
       "      <td>5752500</td>\n",
       "    </tr>\n",
       "    <tr>\n",
       "      <th>Seniors</th>\n",
       "      <td>18187500</td>\n",
       "      <td>5465000</td>\n",
       "      <td>8190000</td>\n",
       "      <td>14717500</td>\n",
       "      <td>5650000</td>\n",
       "      <td>26315000</td>\n",
       "      <td>5512500</td>\n",
       "    </tr>\n",
       "    <tr>\n",
       "      <th>Women</th>\n",
       "      <td>19172500</td>\n",
       "      <td>5652500</td>\n",
       "      <td>8325000</td>\n",
       "      <td>14970000</td>\n",
       "      <td>5577500</td>\n",
       "      <td>26482500</td>\n",
       "      <td>5262500</td>\n",
       "    </tr>\n",
       "  </tbody>\n",
       "</table>\n",
       "</div>"
      ],
      "text/plain": [
       "             Sales                                                        \n",
       "State          NSW       NT      QLD        SA      TAS       VIC       WA\n",
       "Group                                                                     \n",
       " Kids     18587500  5700000  8510000  14515000  5775000  26360000  5625000\n",
       " Men      19022500  5762500  8392500  14655000  5757500  26407500  5752500\n",
       " Seniors  18187500  5465000  8190000  14717500  5650000  26315000  5512500\n",
       " Women    19172500  5652500  8325000  14970000  5577500  26482500  5262500"
      ]
     },
     "execution_count": 46,
     "metadata": {},
     "output_type": "execute_result"
    }
   ],
   "source": [
    "group_df"
   ]
  },
  {
   "cell_type": "code",
   "execution_count": 47,
   "id": "e9162bc8-37a6-47a1-b05b-bffa0577b68e",
   "metadata": {},
   "outputs": [
    {
     "data": {
      "text/plain": [
       "Text(0.5, 1.0, 'Group-Wise Sales Analysis Across All States')"
      ]
     },
     "execution_count": 47,
     "metadata": {},
     "output_type": "execute_result"
    },
    {
     "data": {
      "image/png": "[encoded data removed]",
      "text/plain": [
       "<Figure size 1200x600 with 1 Axes>"
      ]
     },
     "metadata": {},
     "output_type": "display_data"
    }
   ],
   "source": [
    "group_df.plot(kind='bar', stacked=True, figsize=(12, 6))\n",
    "plt.title('Group-Wise Sales Analysis Across All States')"
   ]
  },
  {
   "cell_type": "code",
   "execution_count": null,
   "id": "16473a3e-855f-4b4d-86e6-2cb7201cfcf2",
   "metadata": {},
   "outputs": [],
   "source": []
  },
  {
   "cell_type": "markdown",
   "id": "af9195f1-e73a-4c0a-8051-68c5acce0b11",
   "metadata": {},
   "source": [
    "## 4.3 Time-Of-The-Day Analysis"
   ]
  },
  {
   "cell_type": "code",
   "execution_count": 98,
   "id": "af014e46-9a41-4484-85e0-7fdb626712fb",
   "metadata": {},
   "outputs": [
    {
     "data": {
      "text/plain": [
       "Text(0.5, 0, 'Time of Day')"
      ]
     },
     "execution_count": 98,
     "metadata": {},
     "output_type": "execute_result"
    },
    {
     "data": {
      "image/png": "[encoded data removed]",
      "text/plain": [
       "<Figure size 1000x600 with 1 Axes>"
      ]
     },
     "metadata": {},
     "output_type": "display_data"
    }
   ],
   "source": [
    "plt.figure(figsize=(10, 6))\n",
    "sns.lineplot(x='Time', y='Sales', data=sales_df)\n",
    "plt.title('Time-of-the-day Analysis')\n",
    "plt.xlabel('Time of Day')"
   ]
  },
  {
   "cell_type": "code",
   "execution_count": null,
   "id": "a912501e-845b-424c-aa56-815d4c1c747d",
   "metadata": {},
   "outputs": [],
   "source": []
  }
 ],
 "metadata": {
  "kernelspec": {
   "display_name": "Python 3 (ipykernel)",
   "language": "python",
   "name": "python3"
  },
  "language_info": {
   "codemirror_mode": {
    "name": "ipython",
    "version": 3
   },
   "file_extension": ".py",
   "mimetype": "text/x-python",
   "name": "python",
   "nbconvert_exporter": "python",
   "pygments_lexer": "ipython3",
   "version": "3.11.7"
  }
 },
 "nbformat": 4,
 "nbformat_minor": 5
}
